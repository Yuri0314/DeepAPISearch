{
 "cells": [
  {
   "cell_type": "code",
   "execution_count": 2,
   "metadata": {},
   "outputs": [
    {
     "name": "stdout",
     "output_type": "stream",
     "text": [
      "java io bits get boolean byte[] int boolean\n",
      "\n",
      "java io bits get char byte[] int char\n",
      "\n",
      "java io bits get short byte[] int short\n",
      "\n",
      "java io bits get int byte[] int int\n",
      "\n",
      "java io bits get float byte[] int float\n",
      "\n",
      "java io bits get long byte[] int long\n",
      "\n",
      "java io bits get double byte[] int double\n",
      "\n",
      "java io bits put boolean byte[] int boolean void\n",
      "\n",
      "java io bits put char byte[] int char void\n",
      "\n",
      "java io bits put short byte[] int short void\n",
      "\n",
      "java io bits put int byte[] int int void\n",
      "\n",
      "java io bits put float byte[] int float void\n",
      "\n",
      "java io bits put long byte[] int long void\n",
      "\n",
      "java io bits put double byte[] int double void\n",
      "\n",
      "java io bufferedinputstream read int\n",
      "see the general contract of the read method of inputstream.\n",
      "java io bufferedinputstream read byte[] int int int\n",
      "reads bytes from this byte-input stream into the specified byte array, starting at the given offset\n",
      "java io bufferedinputstream skip long long\n",
      "see the general contract of the skip method of inputstream.\n",
      "java io bufferedinputstream available int\n",
      "returns an estimate of the number of bytes that can be read or skipped over from this input stream without blocking by the next invocation of a method for this input stream\n",
      "9\n"
     ]
    }
   ],
   "source": [
    "import io\n",
    "import re\n",
    "#\n",
    "#注意此处processline函数已经转移到模型中\n",
    "#\n",
    "# 去除句子中的标点符号，并对名字进行\n",
    "\n",
    "#  !!! 注意此时处理的数据存在多个空格连续的情况，在下一次更新代码时应该降调空格，记得将分过词的方法名替代空描述（已修复）\n",
    "def processline(x,y,max_len):\n",
    "    # 去除各种杂乱的标点符号\n",
    "    x=re.sub('[.(),->]',' ',x)\n",
    "    #使用strip去除y尾部的换行符\n",
    "    y=re.sub(r'[()]',' ',y.strip())\n",
    "   #print(y.split(' '))\n",
    "    #  把#部分与前面类名用空格分开,其中line为字符串\n",
    "    x=re.sub('[#]',' #',x)\n",
    "    #使用line1存储处理过后的x字符串，line2存储处理过后的y字符串\n",
    "    line1=''\n",
    "    line2=''\n",
    "   # print(x.split(' '))\n",
    "    for i in x.split(' '):\n",
    "        if i=='':\n",
    "            continue\n",
    "        if not re.match('#.*',i):\n",
    "            i=re.sub('.*[].*','',i):\n",
    "                \n",
    "            line1+=i+' '\n",
    "        else:      \n",
    "            #下面语句是将方法名按照大写字母分割开,对于y为空的语句将#后面切割之后的方法名替代(源数据集中已经对无描述部分进行了处理，此处代码注释)\n",
    "#             if y=='':\n",
    "#                 y=re.sub(\"[A-Z]\",lambda x:\" \"+x.group(0),i[1:])\n",
    "            line1+=(re.sub(\"[A-Z]\",lambda x:\" \"+x.group(0),i[1:]))+' '\n",
    "    for j in y.split(' '):\n",
    "        if j=='':\n",
    "            continue\n",
    "        else:\n",
    "            line2+=j+' '\n",
    "    #最后生成的line1就是将标点符号删除并且对，\n",
    "    #print(line1.strip())\n",
    "    #print(line2.strip())\n",
    "    \n",
    "    # 返回处理之后的x与y字符串\n",
    "    x=line1.lower().strip()\n",
    "    y=line2.lower().strip()\n",
    "#     print(len(x.split(' ')))\n",
    "    if max_len<len(x.split(' ')):\n",
    "        max_len=len(x.split(' '))\n",
    "    print(x)\n",
    "#     print(max_len)\n",
    "    print(y)\n",
    "    \n",
    "    return x,y,max_len\n",
    "\n",
    "#按行从txt文件中读取例句，并进行分词，正则化\n",
    "def prepareData(path):\n",
    "    with io.open(path) as f:\n",
    "        lines=f.readlines()\n",
    "    in_seq,out_seq=[],[]\n",
    "    max_len=0\n",
    "    for line in lines:\n",
    "        x,y=line.split(':::')\n",
    "        _,_,max_len=processline(x,y,max_len)\n",
    "        in_seq.append(x)\n",
    "        out_seq.append(y)\n",
    "    print(max_len)\n",
    "prepareData('./test.txt')\n"
   ]
  },
  {
   "cell_type": "code",
   "execution_count": null,
   "metadata": {},
   "outputs": [],
   "source": []
  },
  {
   "cell_type": "code",
   "execution_count": null,
   "metadata": {},
   "outputs": [],
   "source": [
    "#计算最长API长度的脚本\n",
    "得到最后的最长长度为49"
   ]
  },
  {
   "cell_type": "code",
   "execution_count": null,
   "metadata": {},
   "outputs": [],
   "source": [
    "##下方的代码已经发挥过作用了文件已经整合到result.txt文件中了，不需要继续运行"
   ]
  },
  {
   "cell_type": "code",
   "execution_count": 5,
   "metadata": {},
   "outputs": [],
   "source": [
    "#此处代码将所有的数据文件规整到一个txt文件中\n",
    "# -*- coding:utf-8 -*-  \n",
    "  \n",
    "#os模块中包含很多操作文件和目录的函数  \n",
    "import os  \n",
    "#获取目标文件夹的路径  \n",
    "meragefiledir = 'C:\\\\Users\\\\ChenHeng\\\\Desktop\\\\华为项目2020年暑期工作\\\\华为相似度模型代码\\\\DeepAPISearch\\\\output'\n",
    "#获取当前文件夹中的文件名称列表  \n",
    "filenames=os.listdir(meragefiledir)  \n",
    "#打开当前目录下的result.txt文件，如果没有则创建\n",
    "file=open('result.txt','w')  \n",
    "#向文件中写入字符  \n",
    "  \n",
    "#先遍历文件名  \n",
    "for filename in filenames:  \n",
    "    filepath=meragefiledir+'\\\\'\n",
    "    filepath=filepath+filename\n",
    "    #遍历单个文件，读取行数  \n",
    "    for line in open(filepath):  \n",
    "        file.writelines(line)  \n",
    "#     file.write('\\n')  \n",
    "#关闭文件  \n",
    "file.close()  "
   ]
  },
  {
   "cell_type": "code",
   "execution_count": 20,
   "metadata": {},
   "outputs": [
    {
     "name": "stdout",
     "output_type": "stream",
     "text": [
      "tensor([[0., 0.]])\n",
      "tensor([[1., 0.]])\n",
      "tensor([[0., 0.],\n",
      "        [1., 0.]])\n",
      "tensor([[0., 0.],\n",
      "        [1., 0.],\n",
      "        [1., 0.]])\n"
     ]
    },
    {
     "data": {
      "text/plain": [
       "tensor([[1., 0.],\n",
       "        [1., 0.]])"
      ]
     },
     "execution_count": 20,
     "metadata": {},
     "output_type": "execute_result"
    }
   ],
   "source": [
    "#测试tensor输出与裁剪\n",
    "import torch\n",
    "api_output=torch.tensor([0.0])\n",
    "api_output=api_output.expand(1,2)\n",
    "print(api_output)\n",
    "test=torch.eye(1,2)\n",
    "print(test)\n",
    "out=torch.cat((api_output,test))\n",
    "print(out)\n",
    "out=torch.cat((out,test))\n",
    "print(out)\n",
    "out[1:,:]"
   ]
  },
  {
   "cell_type": "code",
   "execution_count": 2,
   "metadata": {},
   "outputs": [
    {
     "name": "stdout",
     "output_type": "stream",
     "text": [
      "tensor([[ 0.3005, -0.9853,  1.9473,  0.9732,  0.6796]])\n",
      "2\n"
     ]
    }
   ],
   "source": [
    "#测试返回以为tensor最大值的索引\n",
    "import torch\n",
    "x=torch.randn(1,5)\n",
    "print(x)\n",
    "_,idx=torch.max(x,1)\n",
    "print(int(idx))"
   ]
  },
  {
   "cell_type": "code",
   "execution_count": 3,
   "metadata": {},
   "outputs": [
    {
     "name": "stdout",
     "output_type": "stream",
     "text": [
      "0\n",
      "1\n",
      "2\n",
      "3\n",
      "4\n"
     ]
    }
   ],
   "source": [
    "# 测试range\n",
    "for i in range(5):\n",
    "    print(i)"
   ]
  },
  {
   "cell_type": "code",
   "execution_count": 10,
   "metadata": {},
   "outputs": [
    {
     "name": "stdout",
     "output_type": "stream",
     "text": [
      "tensor([[1., 1.]])\n"
     ]
    },
    {
     "ename": "TypeError",
     "evalue": "unhashable type: 'numpy.ndarray'",
     "output_type": "error",
     "traceback": [
      "\u001b[1;31m---------------------------------------------------------------------------\u001b[0m",
      "\u001b[1;31mTypeError\u001b[0m                                 Traceback (most recent call last)",
      "\u001b[1;32m<ipython-input-10-513ebd706e72>\u001b[0m in \u001b[0;36m<module>\u001b[1;34m\u001b[0m\n\u001b[0;32m      6\u001b[0m \u001b[0mprint\u001b[0m\u001b[1;33m(\u001b[0m\u001b[0ma\u001b[0m\u001b[1;33m)\u001b[0m\u001b[1;33m\u001b[0m\u001b[1;33m\u001b[0m\u001b[0m\n\u001b[0;32m      7\u001b[0m \u001b[0mb\u001b[0m\u001b[1;33m=\u001b[0m\u001b[0ma\u001b[0m\u001b[1;33m.\u001b[0m\u001b[0mnumpy\u001b[0m\u001b[1;33m(\u001b[0m\u001b[1;33m)\u001b[0m\u001b[1;33m\u001b[0m\u001b[1;33m\u001b[0m\u001b[0m\n\u001b[1;32m----> 8\u001b[1;33m \u001b[0mapi_dict\u001b[0m\u001b[1;33m[\u001b[0m\u001b[0mb\u001b[0m\u001b[1;33m]\u001b[0m\u001b[1;33m=\u001b[0m\u001b[1;34m'nihao'\u001b[0m\u001b[1;33m\u001b[0m\u001b[1;33m\u001b[0m\u001b[0m\n\u001b[0m\u001b[0;32m      9\u001b[0m \u001b[0mprint\u001b[0m\u001b[1;33m(\u001b[0m\u001b[0ma\u001b[0m\u001b[1;33m)\u001b[0m\u001b[1;33m\u001b[0m\u001b[1;33m\u001b[0m\u001b[0m\n\u001b[0;32m     10\u001b[0m \u001b[0mprint\u001b[0m\u001b[1;33m(\u001b[0m\u001b[0mb\u001b[0m\u001b[1;33m)\u001b[0m\u001b[1;33m\u001b[0m\u001b[1;33m\u001b[0m\u001b[0m\n",
      "\u001b[1;31mTypeError\u001b[0m: unhashable type: 'numpy.ndarray'"
     ]
    }
   ],
   "source": [
    "# 测试字典\n",
    "import torch\n",
    "api_dict={}\n",
    "\n",
    "a=torch.ones(1,2)\n",
    "print(a)\n",
    "b=a.numpy()\n",
    "api_dict[b]='nihao'\n",
    "print(a)\n",
    "print(b)\n"
   ]
  },
  {
   "cell_type": "code",
   "execution_count": null,
   "metadata": {},
   "outputs": [],
   "source": []
  },
  {
   "cell_type": "code",
   "execution_count": null,
   "metadata": {},
   "outputs": [],
   "source": [
    "###  以下代码为测试小功能，并无具体使用"
   ]
  },
  {
   "cell_type": "code",
   "execution_count": 47,
   "metadata": {},
   "outputs": [
    {
     "name": "stdout",
     "output_type": "stream",
     "text": [
      "['java', 'io', 'BufferedInputStream', '#available', '', '->int']\n"
     ]
    }
   ],
   "source": [
    "line=re.sub(r'[.(),]',' ','java.io.BufferedInputStream #available()->int').split(' ')\n",
    "\n",
    "print(line)"
   ]
  },
  {
   "cell_type": "code",
   "execution_count": 5,
   "metadata": {},
   "outputs": [
    {
     "name": "stdout",
     "output_type": "stream",
     "text": [
      "nacbvavbdi nisdbv jsvd n\n"
     ]
    }
   ],
   "source": [
    "import re\n",
    "y=re.sub(r'[()]',' ','nacbvavbdi(nisdbv)jsvd(n)'.strip())\n",
    "print(y.strip())"
   ]
  }
 ],
 "metadata": {
  "kernelspec": {
   "display_name": "Python 3.7.6 64-bit ('base': conda)",
   "language": "python",
   "name": "python37664bitbaseconda29ca87a343a1497fa9db5a03b8930b5d"
  },
  "language_info": {
   "codemirror_mode": {
    "name": "ipython",
    "version": 3
   },
   "file_extension": ".py",
   "mimetype": "text/x-python",
   "name": "python",
   "nbconvert_exporter": "python",
   "pygments_lexer": "ipython3",
   "version": "3.7.6"
  }
 },
 "nbformat": 4,
 "nbformat_minor": 4
}
