{
 "cells": [
  {
   "cell_type": "code",
   "execution_count": 22,
   "metadata": {
    "collapsed": true
   },
   "outputs": [
    {
     "name": "stdout",
     "output_type": "stream",
     "text": [
      "java io Bits get Boolean byte[] int boolean\n",
      "get Boolean\n",
      "java io Bits get Char byte[] int char\n",
      "get Char\n",
      "java io Bits get Short byte[] int short\n",
      "get Short\n",
      "java io Bits get Int byte[] int int\n",
      "get Int\n",
      "java io Bits get Float byte[] int float\n",
      "get Float\n",
      "java io Bits get Long byte[] int long\n",
      "get Long\n",
      "java io Bits get Double byte[] int double\n",
      "get Double\n",
      "java io Bits put Boolean byte[] int boolean void\n",
      "put Boolean\n",
      "java io Bits put Char byte[] int char void\n",
      "put Char\n",
      "java io Bits put Short byte[] int short void\n",
      "put Short\n",
      "java io Bits put Int byte[] int int void\n",
      "put Int\n",
      "java io Bits put Float byte[] int float void\n",
      "put Float\n",
      "java io Bits put Long byte[] int long void\n",
      "put Long\n",
      "java io Bits put Double byte[] int double void\n",
      "put Double\n",
      "java io BufferedInputStream read int\n",
      "See the general contract of the read method of InputStream.\n",
      "java io BufferedInputStream read byte[] int int int\n",
      "Reads bytes from this byte-input stream into the specified byte array, starting at the given offset\n",
      "java io BufferedInputStream skip long long\n",
      "See the general contract of the skip method of InputStream.\n",
      "java io BufferedInputStream available int\n",
      "Returns an estimate of the number of bytes that can be read (or skipped over) from this input stream without blocking by the next invocation of a method for this input stream\n"
     ]
    }
   ],
   "source": [
    "import io\n",
    "import re\n",
    "#\n",
    "!注意此处processline函数已经转移到模型中\n",
    "#\n",
    "# 去除句子中的标点符号，并对名字进行\n",
    "\n",
    "#  !!! 注意此时处理的数据存在多个空格连续的情况，在下一次更新代码时应该降调空格，记得将分过词的方法名替代空描述（已修复）\n",
    "def processline(x,y):\n",
    "    # 去除各种杂乱的标点符号\n",
    "    x=re.sub('[.(),->]',' ',x)\n",
    "    #使用strip去除y尾部的换行符\n",
    "    y=re.sub(r'[()]',' ',y.strip())\n",
    "   #print(y.split(' '))\n",
    "    #  把#部分与前面类名用空格分开,其中line为字符串\n",
    "    x=re.sub('[#]',' #',x)\n",
    "    #使用line1存储处理过后的x字符串，line2存储处理过后的y字符串\n",
    "    line1=''\n",
    "    line2=''\n",
    "   # print(x.split(' '))\n",
    "    for i in x.split(' '):\n",
    "        if i=='':\n",
    "            continue\n",
    "        if not re.match('#.*',i):\n",
    "            line1+=i+' '\n",
    "        else:      \n",
    "            #下面语句是将方法名按照大写字母分割开,对于y为空的语句将#后面切割之后的方法名替代\n",
    "            if y=='':\n",
    "                y=re.sub(\"[A-Z]\",lambda x:\" \"+x.group(0),i[1:])\n",
    "            line1+=(re.sub(\"[A-Z]\",lambda x:\" \"+x.group(0),i[1:]))+' '\n",
    "    for j in y.split(' '):\n",
    "        if j=='':\n",
    "            continue\n",
    "        else:\n",
    "            line2+=j+' '\n",
    "    #最后生成的line1就是将标点符号删除并且对，\n",
    "    #print(line1.strip())\n",
    "    #print(line2.strip())\n",
    "    \n",
    "    # 返回处理之后的x与y字符串\n",
    "    return line1.strip(),line2.strip()\n",
    "\n",
    "#按行从txt文件中读取例句，并进行分词，正则化\n",
    "def prepareData(path):\n",
    "    with io.open(path) as f:\n",
    "        lines=f.readlines()\n",
    "    in_seq,out_seq=[],[]\n",
    "    for line in lines:\n",
    "        x,y=line.split(':::')\n",
    "        processline(x,y)\n",
    "        in_seq.append(x)\n",
    "        out_seq.append(y)\n",
    "prepareData('../output/test.txt')    \n"
   ]
  },
  {
   "cell_type": "code",
   "execution_count": null,
   "metadata": {},
   "outputs": [],
   "source": [
    "#对数据集增加负样本"
   ]
  },
  {
   "cell_type": "code",
   "execution_count": null,
   "metadata": {},
   "outputs": [],
   "source": []
  },
  {
   "cell_type": "code",
   "execution_count": null,
   "metadata": {},
   "outputs": [],
   "source": [
    "###  以下代码为测试小功能，并无具体使用"
   ]
  },
  {
   "cell_type": "code",
   "execution_count": 47,
   "metadata": {},
   "outputs": [
    {
     "name": "stdout",
     "output_type": "stream",
     "text": [
      "['java', 'io', 'BufferedInputStream', '#available', '', '->int']\n"
     ]
    }
   ],
   "source": [
    "line=re.sub(r'[.(),]',' ','java.io.BufferedInputStream #available()->int').split(' ')\n",
    "\n",
    "print(line)"
   ]
  },
  {
   "cell_type": "code",
   "execution_count": 3,
   "metadata": {},
   "outputs": [
    {
     "name": "stdout",
     "output_type": "stream",
     "text": [
      "nacbvavbdi(nisdbv)jsvd(n)\n"
     ]
    }
   ],
   "source": [
    "import re\n",
    "y=re.sub(r'[()]',' ','nacbvavbdi(nisdbv)jsvd(n)'.strip())\n",
    "print(y)"
   ]
  },
  {
   "cell_type": "code",
   "execution_count": null,
   "metadata": {},
   "outputs": [],
   "source": []
  },
  {
   "cell_type": "code",
   "execution_count": null,
   "metadata": {},
   "outputs": [],
   "source": []
  },
  {
   "cell_type": "code",
   "execution_count": null,
   "metadata": {},
   "outputs": [],
   "source": []
  }
 ],
 "metadata": {
  "kernelspec": {
   "display_name": "Python 3.7.6 64-bit ('base': conda)",
   "language": "python",
   "name": "python37664bitbaseconda29ca87a343a1497fa9db5a03b8930b5d"
  },
  "language_info": {
   "codemirror_mode": {
    "name": "ipython",
    "version": 3
   },
   "file_extension": ".py",
   "mimetype": "text/x-python",
   "name": "python",
   "nbconvert_exporter": "python",
   "pygments_lexer": "ipython3",
   "version": "3.7.6"
  }
 },
 "nbformat": 4,
 "nbformat_minor": 4
}
