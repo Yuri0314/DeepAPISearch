{
 "cells": [
  {
   "cell_type": "code",
   "execution_count": 43,
   "metadata": {
    "scrolled": true
   },
   "outputs": [
    {
     "name": "stdout",
     "output_type": "stream",
     "text": [
      "java io Bits #getBoolean byte[]  int ->boolean\n",
      "java io Bits #getChar byte[]  int ->char\n",
      "java io Bits #getShort byte[]  int ->short\n",
      "java io Bits #getInt byte[]  int ->int\n",
      "java io Bits #getFloat byte[]  int ->float\n",
      "java io Bits #getLong byte[]  int ->long\n",
      "java io Bits #getDouble byte[]  int ->double\n",
      "java io Bits #putBoolean byte[]  int  boolean ->void\n",
      "java io Bits #putChar byte[]  int  char ->void\n",
      "java io Bits #putShort byte[]  int  short ->void\n",
      "java io Bits #putInt byte[]  int  int ->void\n",
      "java io Bits #putFloat byte[]  int  float ->void\n",
      "java io Bits #putLong byte[]  int  long ->void\n",
      "java io Bits #putDouble byte[]  int  double ->void\n",
      "java io BufferedInputStream #read  ->int\n",
      "java io BufferedInputStream #read byte[]  int  int ->int\n",
      "java io BufferedInputStream #skip long ->long\n",
      "java io BufferedInputStream #available  ->int\n"
     ]
    }
   ],
   "source": [
    "import io\n",
    "import re\n",
    "# 去除句子中的标点符号，并对名字进行\n",
    "\n",
    "#  !!! 注意此时处理的数据存在多个空格连续的情况，在下一次更新代码时应该降调空格，记得将分过词的方法名替代空描述\n",
    "def processline(x,y):\n",
    "    line=re.sub('[.(),->]',' ',x)\n",
    "    line=re.sub('[#]',' #',line)\n",
    "    print(line)\n",
    "    for i in line.split(' '):\n",
    "        if re.match('#.*',i):\n",
    "            #下面语句是将方法名按照大写字母分割开\n",
    "            i=re.sub(\"[A-Z]\",lambda x:\" \"+x.group(0),i[1:])\n",
    "#     print(line)\n",
    "#按行从txt文件中读取例句，并进行分词，正则化\n",
    "def prepareData(path):\n",
    "    with io.open(path) as f:\n",
    "        lines=f.readlines()\n",
    "    in_seq,out_seq=[],[]\n",
    "    for line in lines:\n",
    "        x,y=line.split(':::')\n",
    "        processline(x,y)\n",
    "        in_seq.append(x)\n",
    "        out_seq.append(y)\n",
    "prepareData('../output/test.txt')    \n"
   ]
  },
  {
   "cell_type": "code",
   "execution_count": null,
   "metadata": {},
   "outputs": [],
   "source": []
  },
  {
   "cell_type": "code",
   "execution_count": null,
   "metadata": {},
   "outputs": [],
   "source": [
    "###  以下代码为测试小功能，并无具体使用"
   ]
  },
  {
   "cell_type": "code",
   "execution_count": 47,
   "metadata": {},
   "outputs": [
    {
     "name": "stdout",
     "output_type": "stream",
     "text": [
      "['java', 'io', 'BufferedInputStream', '#available', '', '->int']\n"
     ]
    }
   ],
   "source": [
    "line=re.sub(r'[.(),]',' ','java.io.BufferedInputStream #available()->int').split(' ')\n",
    "\n",
    "print(line)"
   ]
  },
  {
   "cell_type": "code",
   "execution_count": null,
   "metadata": {},
   "outputs": [],
   "source": []
  },
  {
   "cell_type": "code",
   "execution_count": null,
   "metadata": {},
   "outputs": [],
   "source": []
  },
  {
   "cell_type": "code",
   "execution_count": null,
   "metadata": {},
   "outputs": [],
   "source": []
  },
  {
   "cell_type": "code",
   "execution_count": null,
   "metadata": {},
   "outputs": [],
   "source": []
  },
  {
   "cell_type": "code",
   "execution_count": null,
   "metadata": {},
   "outputs": [],
   "source": []
  },
  {
   "cell_type": "code",
   "execution_count": null,
   "metadata": {},
   "outputs": [],
   "source": []
  }
 ],
 "metadata": {
  "kernelspec": {
   "display_name": "Python 3.7.6 64-bit ('base': conda)",
   "language": "python",
   "name": "python37664bitbaseconda29ca87a343a1497fa9db5a03b8930b5d"
  },
  "language_info": {
   "codemirror_mode": {
    "name": "ipython",
    "version": 3
   },
   "file_extension": ".py",
   "mimetype": "text/x-python",
   "name": "python",
   "nbconvert_exporter": "python",
   "pygments_lexer": "ipython3",
   "version": "3.7.6"
  }
 },
 "nbformat": 4,
 "nbformat_minor": 4
}
